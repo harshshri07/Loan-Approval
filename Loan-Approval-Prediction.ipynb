{
  "cells": [
    {
      "cell_type": "code",
      "source": [
        "import pandas as pd\n",
        "import numpy as np\n",
        "import matplotlib.pyplot as plt\n",
        "\n",
        "# Load the training and testing data with error handling\n",
        "train_data = pd.read_csv('TrainingData.csv')\n",
        "test_data = pd.read_csv('TestingData.csv')\n",
        "\n",
        "# Separate features and labels with descriptive variable names\n",
        "features_train = train_data.iloc[:, :-1]\n",
        "labels_train = train_data.iloc[:, -1]\n",
        "features_test = test_data.iloc[:, :-1]\n",
        "labels_test = test_data.iloc[:, -1]\n",
        "\n",
        "\n",
        "# Function to calculate type 1 and type 2 error rates\n",
        "def calculate_error_rates(y_true, y_pred):\n",
        "    type_1_error = np.sum((y_true == 0) & (y_pred == 1)) / len(y_true[y_true == 0])\n",
        "    type_2_error = np.sum((y_true == 1) & (y_pred == 0)) / len(y_true[y_true == 1])\n",
        "    return type_1_error, type_2_error"
      ],
      "metadata": {
        "id": "Ol_6vlTY4_ZX"
      },
      "execution_count": null,
      "outputs": []
    },
    {
      "cell_type": "code",
      "execution_count": null,
      "metadata": {
        "colab": {
          "base_uri": "https://localhost:8080/"
        },
        "id": "CWgWd8ivW3pv",
        "outputId": "1bb77e6f-f17e-431b-862e-4135a65cc3c7"
      },
      "outputs": [
        {
          "output_type": "stream",
          "name": "stdout",
          "text": [
            "LDA Type 1 Error: 0.16, Type 2 Error: 0.03\n"
          ]
        }
      ],
      "source": [
        "from sklearn.discriminant_analysis import LinearDiscriminantAnalysis\n",
        "import matplotlib.pyplot as plt\n",
        "\n",
        "def run_lda():\n",
        "    lda = LinearDiscriminantAnalysis()\n",
        "    lda.fit(X_train, y_train)\n",
        "    y_pred_lda = lda.predict(X_test)\n",
        "    type1_lda, type2_lda = calculate_error_rates(y_test, y_pred_lda)\n",
        "    print(f\"LDA Type 1 Error: {type1_lda}, Type 2 Error: {type2_lda}\")\n",
        "    return type1_lda, type2_lda\n",
        "\n",
        "lda_results = run_lda()"
      ]
    },
    {
      "cell_type": "code",
      "execution_count": null,
      "metadata": {
        "colab": {
          "base_uri": "https://localhost:8080/"
        },
        "id": "_MeH4U6hW7e1",
        "outputId": "1ee599af-892a-4687-f07c-2b592af8b9d8"
      },
      "outputs": [
        {
          "output_type": "stream",
          "name": "stdout",
          "text": [
            "Decision Tree Type 1 Error: 0.175, Type 2 Error: 0.155\n"
          ]
        }
      ],
      "source": [
        "from sklearn.tree import DecisionTreeClassifier\n",
        "\n",
        "# Train a Decision Tree classifier\n",
        "tree = DecisionTreeClassifier(criterion='gini', random_state=42)\n",
        "tree.fit(X_train, y_train)\n",
        "\n",
        "# Predict on the testing data\n",
        "y_pred_tree = tree.predict(X_test)\n",
        "\n",
        "# Calculate the error rates for Decision Tree\n",
        "type1_tree, type2_tree = calculate_error_rates(y_test, y_pred_tree)\n",
        "print(f\"Decision Tree Type 1 Error: {type1_tree}, Type 2 Error: {type2_tree}\")\n"
      ]
    },
    {
      "cell_type": "code",
      "execution_count": null,
      "metadata": {
        "colab": {
          "base_uri": "https://localhost:8080/"
        },
        "id": "JjMtrU3TW-jq",
        "outputId": "e178fbd1-b86e-44b2-bd82-81de6e0c8f39"
      },
      "outputs": [
        {
          "output_type": "stream",
          "name": "stdout",
          "text": [
            "kNN (k=1) Type 1 Error: 0.25, Type 2 Error: 0.185\n",
            "kNN (k=3) Type 1 Error: 0.185, Type 2 Error: 0.17\n",
            "kNN (k=5) Type 1 Error: 0.2, Type 2 Error: 0.135\n",
            "kNN (k=10) Type 1 Error: 0.17, Type 2 Error: 0.165\n"
          ]
        }
      ],
      "source": [
        "from sklearn.neighbors import KNeighborsClassifier\n",
        "def run_knn():\n",
        "    k_values = [1, 3, 5, 10]\n",
        "    results = []\n",
        "\n",
        "    for k in k_values:\n",
        "        knn = KNeighborsClassifier(n_neighbors=k)\n",
        "        knn.fit(X_train, y_train)\n",
        "        y_pred_knn = knn.predict(X_test)\n",
        "        type1_knn, type2_knn = calculate_error_rates(y_test, y_pred_knn)\n",
        "        results.append({'k': k, 'type_1_error': type1_knn, 'type_2_error': type2_knn})\n",
        "        print(f\"kNN (k={k}) Type 1 Error: {type1_knn}, Type 2 Error: {type2_knn}\")\n",
        "\n",
        "    return results\n",
        "\n",
        "knn_results = run_knn()"
      ]
    },
    {
      "cell_type": "code",
      "execution_count": null,
      "metadata": {
        "colab": {
          "base_uri": "https://localhost:8080/"
        },
        "id": "ONoonHkrXCEJ",
        "outputId": "af4848e6-8b84-4fed-e29f-0faa1638ed04"
      },
      "outputs": [
        {
          "output_type": "stream",
          "name": "stdout",
          "text": [
            "SVM Type 1 Error: 0.125, Type 2 Error: 0.02\n"
          ]
        }
      ],
      "source": [
        "from sklearn.preprocessing import StandardScaler\n",
        "from sklearn.svm import SVC\n",
        "\n",
        "# Scale the training and testing data\n",
        "scaler = StandardScaler()\n",
        "X_train_scaled = scaler.fit_transform(X_train)\n",
        "X_test_scaled = scaler.transform(X_test)\n",
        "\n",
        "# Train an SVM with scaled data\n",
        "svm = SVC(kernel='linear', C=1.0)\n",
        "svm.fit(X_train_scaled, y_train)\n",
        "\n",
        "# Predict on the scaled testing data\n",
        "y_pred_svm = svm.predict(X_test_scaled)\n",
        "\n",
        "# Calculate the error rates for SVM\n",
        "type1_svm, type2_svm = calculate_error_rates(y_test, y_pred_svm)\n",
        "print(f\"SVM Type 1 Error: {type1_svm}, Type 2 Error: {type2_svm}\")"
      ]
    },
    {
      "cell_type": "code",
      "source": [
        "def run_pca_classifiers():\n",
        "    n_components_list = [5, 10, 15]\n",
        "    results = []\n",
        "\n",
        "    for n_components in n_components_list:\n",
        "        pca = PCA(n_components=n_components)\n",
        "        X_train_pca = pca.fit_transform(X_train_scaled)\n",
        "        X_test_pca = pca.transform(X_test_scaled)\n",
        "\n",
        "        # kNN with PCA\n",
        "        knn_pca = KNeighborsClassifier(n_neighbors=3)\n",
        "        knn_pca.fit(X_train_pca, y_train)\n",
        "        y_pred_knn_pca = knn_pca.predict(X_test_pca)\n",
        "        type1_knn_pca, type2_knn_pca = calculate_error_rates(y_test, y_pred_knn_pca)\n",
        "        results.append({'method': 'kNN', 'n_components': n_components, 'type_1_error': type1_knn_pca, 'type_2_error': type2_knn_pca})\n",
        "        print(f\"PCA (n={n_components}) kNN Type 1 Error: {type1_knn_pca}, Type 2 Error: {type2_knn_pca}\")\n",
        "\n",
        "        # SVM with PCA\n",
        "        svm_pca = SVC(kernel='linear', C=1, random_state=42)\n",
        "        svm_pca.fit(X_train_pca, y_train)\n",
        "        y_pred_svm_pca = svm_pca.predict(X_test_pca)\n",
        "        type1_svm_pca, type2_svm_pca = calculate_error_rates(y_test, y_pred_svm_pca)\n",
        "        results.append({'method': 'SVM', 'n_components': n_components, 'type_1_error': type1_svm_pca, 'type_2_error': type2_svm_pca})\n",
        "        print(f\"PCA (n={n_components}) SVM Type 1 Error: {type1_svm_pca}, Type 2 Error: {type2_svm_pca}\")\n",
        "\n",
        "    return results\n",
        "\n",
        "pca_results = run_pca_classifiers()"
      ],
      "metadata": {
        "colab": {
          "base_uri": "https://localhost:8080/"
        },
        "id": "lbvGQ11PLQ3x",
        "outputId": "bf9866d8-ad48-4987-f5ea-5847b32a8d5e"
      },
      "execution_count": null,
      "outputs": [
        {
          "output_type": "stream",
          "name": "stdout",
          "text": [
            "PCA (n=5) kNN Type 1 Error: 0.16, Type 2 Error: 0.105\n",
            "PCA (n=5) SVM Type 1 Error: 0.14, Type 2 Error: 0.075\n",
            "PCA (n=10) kNN Type 1 Error: 0.22, Type 2 Error: 0.155\n",
            "PCA (n=10) SVM Type 1 Error: 0.155, Type 2 Error: 0.045\n",
            "PCA (n=15) kNN Type 1 Error: 0.235, Type 2 Error: 0.15\n",
            "PCA (n=15) SVM Type 1 Error: 0.15, Type 2 Error: 0.025\n"
          ]
        }
      ]
    },
    {
      "cell_type": "code",
      "source": [
        "def plot_results():\n",
        "    # Plot kNN results\n",
        "    k_values = [result['k'] for result in knn_results]\n",
        "    type1_knn = [result['type_1_error'] for result in knn_results]\n",
        "    type2_knn = [result['type_2_error'] for result in knn_results]\n",
        "\n",
        "    plt.figure(figsize=(15, 5))\n",
        "    plt.subplot(1, 3, 1)\n",
        "    plt.plot(k_values, type1_knn, marker='o', label='Type 1 Error')\n",
        "    plt.plot(k_values, type2_knn, marker='o', label='Type 2 Error')\n",
        "    plt.title('kNN Error Rates')\n",
        "    plt.xlabel('k Value')\n",
        "    plt.ylabel('Error Rate')\n",
        "    plt.legend()\n",
        "\n",
        "    # Plot SVM results\n",
        "    C_values = [result['C'] for result in svm_results]\n",
        "    type1_svm = [result['type_1_error'] for result in svm_results]\n",
        "    type2_svm = [result['type_2_error'] for result in svm_results]\n",
        "\n",
        "    plt.subplot(1, 3, 2)\n",
        "    plt.plot(C_values, type1_svm, marker='o', label='Type 1 Error')\n",
        "    plt.plot(C_values, type2_svm, marker='o', label='Type 2 Error')\n",
        "    plt.title('SVM Error Rates')\n",
        "    plt.xlabel('C Value')\n",
        "    plt.ylabel('Error Rate')\n",
        "    plt.legend()\n",
        "\n",
        "    # Plot Decision Tree results\n",
        "    min_samples_leaf = [result['min_samples_leaf'] for result in dt_results]\n",
        "    type1_dt = [result['type_1_error'] for result in dt_results]\n",
        "    type2_dt = [result['type_2_error'] for result in dt_results]\n",
        "\n",
        "    plt.subplot(1, 3, 3)\n",
        "    plt.plot(min_samples_leaf, type1_dt, marker='o', label='Type 1 Error')\n",
        "    plt.plot(min_samples_leaf, type2_dt, marker='o', label='Type 2 Error')\n",
        "    plt.title('Decision Tree Error Rates')\n",
        "    plt.xlabel('min_samples_leaf')\n",
        "    plt.ylabel('Error Rate')\n",
        "    plt.legend()\n",
        "\n",
        "    plt.tight_layout()\n",
        "    plt.show()\n",
        "\n",
        "plot_results()"
      ],
      "metadata": {
        "colab": {
          "base_uri": "https://localhost:8080/",
          "height": 767
        },
        "id": "DMGVkQz1RYhD",
        "outputId": "f7ac73a0-aba5-4c32-eae3-070a0d3c8932"
      },
      "execution_count": null,
      "outputs": [
        {
          "output_type": "error",
          "ename": "NameError",
          "evalue": "name 'svm_results' is not defined",
          "traceback": [
            "\u001b[0;31m---------------------------------------------------------------------------\u001b[0m",
            "\u001b[0;31mNameError\u001b[0m                                 Traceback (most recent call last)",
            "\u001b[0;32m<ipython-input-33-dcfe9612fe1c>\u001b[0m in \u001b[0;36m<cell line: 45>\u001b[0;34m()\u001b[0m\n\u001b[1;32m     43\u001b[0m     \u001b[0mplt\u001b[0m\u001b[0;34m.\u001b[0m\u001b[0mshow\u001b[0m\u001b[0;34m(\u001b[0m\u001b[0;34m)\u001b[0m\u001b[0;34m\u001b[0m\u001b[0;34m\u001b[0m\u001b[0m\n\u001b[1;32m     44\u001b[0m \u001b[0;34m\u001b[0m\u001b[0m\n\u001b[0;32m---> 45\u001b[0;31m \u001b[0mplot_results\u001b[0m\u001b[0;34m(\u001b[0m\u001b[0;34m)\u001b[0m\u001b[0;34m\u001b[0m\u001b[0;34m\u001b[0m\u001b[0m\n\u001b[0m",
            "\u001b[0;32m<ipython-input-33-dcfe9612fe1c>\u001b[0m in \u001b[0;36mplot_results\u001b[0;34m()\u001b[0m\n\u001b[1;32m     15\u001b[0m \u001b[0;34m\u001b[0m\u001b[0m\n\u001b[1;32m     16\u001b[0m     \u001b[0;31m# Plot SVM results\u001b[0m\u001b[0;34m\u001b[0m\u001b[0;34m\u001b[0m\u001b[0m\n\u001b[0;32m---> 17\u001b[0;31m     \u001b[0mC_values\u001b[0m \u001b[0;34m=\u001b[0m \u001b[0;34m[\u001b[0m\u001b[0mresult\u001b[0m\u001b[0;34m[\u001b[0m\u001b[0;34m'C'\u001b[0m\u001b[0;34m]\u001b[0m \u001b[0;32mfor\u001b[0m \u001b[0mresult\u001b[0m \u001b[0;32min\u001b[0m \u001b[0msvm_results\u001b[0m\u001b[0;34m]\u001b[0m\u001b[0;34m\u001b[0m\u001b[0;34m\u001b[0m\u001b[0m\n\u001b[0m\u001b[1;32m     18\u001b[0m     \u001b[0mtype1_svm\u001b[0m \u001b[0;34m=\u001b[0m \u001b[0;34m[\u001b[0m\u001b[0mresult\u001b[0m\u001b[0;34m[\u001b[0m\u001b[0;34m'type_1_error'\u001b[0m\u001b[0;34m]\u001b[0m \u001b[0;32mfor\u001b[0m \u001b[0mresult\u001b[0m \u001b[0;32min\u001b[0m \u001b[0msvm_results\u001b[0m\u001b[0;34m]\u001b[0m\u001b[0;34m\u001b[0m\u001b[0;34m\u001b[0m\u001b[0m\n\u001b[1;32m     19\u001b[0m     \u001b[0mtype2_svm\u001b[0m \u001b[0;34m=\u001b[0m \u001b[0;34m[\u001b[0m\u001b[0mresult\u001b[0m\u001b[0;34m[\u001b[0m\u001b[0;34m'type_2_error'\u001b[0m\u001b[0;34m]\u001b[0m \u001b[0;32mfor\u001b[0m \u001b[0mresult\u001b[0m \u001b[0;32min\u001b[0m \u001b[0msvm_results\u001b[0m\u001b[0;34m]\u001b[0m\u001b[0;34m\u001b[0m\u001b[0;34m\u001b[0m\u001b[0m\n",
            "\u001b[0;31mNameError\u001b[0m: name 'svm_results' is not defined"
          ]
        },
        {
          "output_type": "display_data",
          "data": {
            "text/plain": [
              "<Figure size 1500x500 with 1 Axes>"
            ],
            "image/png": "[encoded data removed]"
          },
          "metadata": {}
        }
      ]
    },
    {
      "cell_type": "code",
      "source": [],
      "metadata": {
        "id": "ZUe59HGuRd3_"
      },
      "execution_count": null,
      "outputs": []
    }
  ],
  "metadata": {
    "colab": {
      "provenance": []
    },
    "kernelspec": {
      "display_name": "Python 3",
      "name": "python3"
    },
    "language_info": {
      "name": "python"
    }
  },
  "nbformat": 4,
  "nbformat_minor": 0
}